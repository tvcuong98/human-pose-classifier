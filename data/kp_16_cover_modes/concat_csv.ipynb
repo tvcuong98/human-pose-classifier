{
 "cells": [
  {
   "cell_type": "code",
   "execution_count": 1,
   "metadata": {},
   "outputs": [],
   "source": [
    "# import pandas as pd\n",
    "\n",
    "# # Load the CSV files\n",
    "# try:\n",
    "#     gan_sample = pd.read_csv('/ske/Kinetic-GAN/output/gan_sample/gan_sample.csv')\n",
    "#     fullswaptraingt16 = pd.read_csv('/ske/data/fullswaptraingt16.csv')\n",
    "# except FileNotFoundError as e:\n",
    "#     print(\"File not found:\", e)\n",
    "#     exit(1)\n",
    "# except pd.errors.EmptyDataError:\n",
    "#     print(\"One or both CSV files are empty.\")\n",
    "#     exit(1)\n",
    "# except pd.errors.ParserError:\n",
    "#     print(\"One or both CSV files have invalid format.\")\n",
    "#     exit(1)\n",
    "\n",
    "# # Concatenate the dataframes\n",
    "# try:\n",
    "#     concatenated_df = pd.concat([gan_sample, fullswaptraingt16], ignore_index=True)\n",
    "# except ValueError as e:\n",
    "#     print(\"Error concatenating dataframes:\", e)\n",
    "#     exit(1)\n",
    "\n",
    "# # Handle missing values\n",
    "# concatenated_df = concatenated_df.dropna()\n",
    "\n",
    "# # Write the concatenated dataframe to a new CSV file\n",
    "# concatenated_df.to_csv('/ske/data/ganfullswaptraingt16.csv', index=False)"
   ]
  },
  {
   "cell_type": "code",
   "execution_count": 13,
   "metadata": {},
   "outputs": [
    {
     "name": "stdout",
     "output_type": "stream",
     "text": [
      "46260\n",
      "3468\n"
     ]
    }
   ],
   "source": [
    "import csv\n",
    "def count_rows(csv_file):\n",
    "    with open(csv_file, 'r', newline='') as file:\n",
    "        reader = csv.reader(file)\n",
    "        row_count = sum(1 for row in reader)\n",
    "    return row_count\n",
    "\n",
    "def concatenate_csv(input_files, output_file):\n",
    "    with open(output_file, 'w', newline='') as outfile:\n",
    "        writer = csv.writer(outfile)\n",
    "        for file_path in input_files:\n",
    "            total_rows=count_rows(file_path)\n",
    "            print(total_rows)\n",
    "            with open(file_path, 'r', newline='') as infile:\n",
    "                reader = csv.reader(infile)\n",
    "                row_number=0\n",
    "                for row in reader:\n",
    "                    row_number += 1\n",
    "                    if row_number < total_rows:  # Exclude last row\n",
    "                        writer.writerow(row)\n",
    "\n",
    "\n",
    "# File paths\n",
    "input_files = [\n",
    "    '/ske/Kinetic-GAN/output/gan_sample_hard/gan_sample.csv',\n",
    "    '/ske/data/kp_16_cover_modes/uncover/trainuncover.csv'\n",
    "]\n",
    "output_file = \"/ske/data/kp_16_cover_modes/uncover/gantrainuncover.csv\"\n",
    "\n",
    "# Concatenate CSV files\n",
    "concatenate_csv(input_files, output_file)\n"
   ]
  }
 ],
 "metadata": {
  "kernelspec": {
   "display_name": "Python 3",
   "language": "python",
   "name": "python3"
  },
  "language_info": {
   "codemirror_mode": {
    "name": "ipython",
    "version": 3
   },
   "file_extension": ".py",
   "mimetype": "text/x-python",
   "name": "python",
   "nbconvert_exporter": "python",
   "pygments_lexer": "ipython3",
   "version": "3.10.12"
  }
 },
 "nbformat": 4,
 "nbformat_minor": 2
}
