{
 "cells": [
  {
   "cell_type": "code",
   "execution_count": 4,
   "metadata": {},
   "outputs": [],
   "source": [
    "import os\n",
    "import shutil\n",
    "\n",
    "def split_images(source_dir, destination_dir):\n",
    "    classes = [\"1\", \"2\", \"3\", \"4\", \"5\", \"6\", \"7\", \"8\", \"9\"]  # Adjust if needed\n",
    "    cover_modes = [\"COVER1\", \"COVER2\", \"UNCOVER\"]\n",
    "\n",
    "    for cover_mode in cover_modes:\n",
    "        cover_mode_dir = os.path.join(destination_dir, f\"IR_9class_merge_raw_{cover_mode}\")\n",
    "        os.makedirs(cover_mode_dir, exist_ok=True)  # Create if not exists\n",
    "\n",
    "        for class_name in classes:\n",
    "            class_dir = os.path.join(cover_mode_dir, class_name)\n",
    "            os.makedirs(class_dir, exist_ok=True)\n",
    "\n",
    "            source_class_dir = os.path.join(source_dir, class_name)\n",
    "            if not os.path.exists(source_class_dir):\n",
    "                print(f\"Warning: Source class directory not found: {source_class_dir}\")\n",
    "                continue\n",
    "\n",
    "            for image_file in os.listdir(source_class_dir):\n",
    "                if image_file.endswith(\".png\"):\n",
    "                    try:\n",
    "                        cover_mode_from_file = image_file.split(\"_\")[0].split(\"image\")[0]\n",
    "                        #print(cover_mode_from_file)\n",
    "                        #class_from_file = image_file.split(\"_\")[3].split(\".\")[0]  \n",
    "                        class_from_file = class_name\n",
    "\n",
    "                        if cover_mode_from_file in cover_modes and class_from_file in classes:\n",
    "                            source_path = os.path.join(source_class_dir, image_file)\n",
    "                            destination_path = os.path.join(destination_dir, f\"IR_9class_merge_raw_{cover_mode_from_file}\", class_from_file, image_file)\n",
    "                            shutil.copy(source_path, destination_path)\n",
    "                        else:\n",
    "                            print(f\"Warning: Invalid cover mode or class in filename: {image_file}\")\n",
    "                    except Exception as e:\n",
    "                        print(f\"Error processing file {image_file}: {e}\")\n",
    "\n",
    "# Example Usage\n",
    "source_dir = \"/ske/data/IR_9class_merge_raw/train\"\n",
    "destination_dir = \"/ske/data/IR_9class_merge_raw_cover_modes\" \n",
    "split_images(source_dir, destination_dir)"
   ]
  }
 ],
 "metadata": {
  "kernelspec": {
   "display_name": "Python 3",
   "language": "python",
   "name": "python3"
  },
  "language_info": {
   "codemirror_mode": {
    "name": "ipython",
    "version": 3
   },
   "file_extension": ".py",
   "mimetype": "text/x-python",
   "name": "python",
   "nbconvert_exporter": "python",
   "pygments_lexer": "ipython3",
   "version": "3.10.12"
  }
 },
 "nbformat": 4,
 "nbformat_minor": 2
}
