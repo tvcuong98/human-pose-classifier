{
 "cells": [
  {
   "cell_type": "code",
   "execution_count": 6,
   "metadata": {},
   "outputs": [
    {
     "name": "stdout",
     "output_type": "stream",
     "text": [
      "Minimum x-coordinate: 15.59075043630018\n",
      "Maximum x-coordinate: 101.8734729493892\n",
      "Minimum y-coordinate: 0.7197309417040572\n",
      "Maximum y-coordinate: 146.53986429177272\n"
     ]
    }
   ],
   "source": [
    "import csv\n",
    "\n",
    "def read_coordinates(file_path):\n",
    "    \"\"\"\n",
    "    Reads x and y coordinates from a CSV file.\n",
    "\n",
    "    Args:\n",
    "        file_path (str): Path to the CSV file.\n",
    "\n",
    "    Returns:\n",
    "        list of tuples: Each tuple contains (x, y) coordinates.\n",
    "    \"\"\"\n",
    "    coordinates = []\n",
    "    with open(file_path, 'r') as csvfile:\n",
    "        reader = csv.reader(csvfile)\n",
    "        for row in reader:\n",
    "            # Assuming each row has 16 pairs of x and y coordinates\n",
    "            x_values = [float(row[i]) for i in range(0, len(row)-1, 2)]\n",
    "            y_values = [float(row[i + 1]) for i in range(0, len(row)-1, 2)]\n",
    "            coordinates.extend(zip(x_values, y_values))\n",
    "    return coordinates\n",
    "\n",
    "def find_min_max(coordinates):\n",
    "    \"\"\"\n",
    "    Finds the minimum and maximum x and y coordinates.\n",
    "\n",
    "    Args:\n",
    "        coordinates (list of tuples): List of (x, y) coordinates.\n",
    "\n",
    "    Returns:\n",
    "        tuple: (min_x, min_y, max_x, max_y)\n",
    "    \"\"\"\n",
    "    min_x = min(coord[0] for coord in coordinates)\n",
    "    max_x = max(coord[0] for coord in coordinates)\n",
    "    min_y = min(coord[1] for coord in coordinates)\n",
    "    max_y = max(coord[1] for coord in coordinates)\n",
    "    return min_x, min_y, max_x, max_y\n",
    "\n",
    "if __name__ == '__main__':\n",
    "    csv_file_path = '/ske/data/traingt16.csv'\n",
    "    all_coordinates = read_coordinates(csv_file_path)\n",
    "    min_x, min_y, max_x, max_y = find_min_max(all_coordinates)\n",
    "    print(f\"Minimum x-coordinate: {min_x}\")\n",
    "    print(f\"Maximum x-coordinate: {max_x}\")\n",
    "    print(f\"Minimum y-coordinate: {min_y}\")\n",
    "    print(f\"Maximum y-coordinate: {max_y}\")\n"
   ]
  }
 ],
 "metadata": {
  "kernelspec": {
   "display_name": "Python 3",
   "language": "python",
   "name": "python3"
  },
  "language_info": {
   "codemirror_mode": {
    "name": "ipython",
    "version": 3
   },
   "file_extension": ".py",
   "mimetype": "text/x-python",
   "name": "python",
   "nbconvert_exporter": "python",
   "pygments_lexer": "ipython3",
   "version": "3.10.12"
  }
 },
 "nbformat": 4,
 "nbformat_minor": 2
}
